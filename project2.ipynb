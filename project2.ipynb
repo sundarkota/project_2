{
 "cells": [
  {
   "cell_type": "code",
   "execution_count": 117,
   "metadata": {},
   "outputs": [],
   "source": [
    "import sqlite3\n",
    "import pandas as pd\n",
    "import numpy as np\n",
    "import matplotlib.pyplot as plt\n",
    "import seaborn as sns\n",
    "\n",
    "from sklearn.tree import DecisionTreeRegressor\n",
    "from sklearn.linear_model import LinearRegression\n",
    "from sklearn.model_selection import train_test_split\n",
    "from sklearn.metrics import mean_squared_error\n",
    "from sklearn.preprocessing import Imputer, StandardScaler\n",
    "from math import sqrt"
   ]
  },
  {
   "cell_type": "code",
   "execution_count": 56,
   "metadata": {},
   "outputs": [],
   "source": [
    "%matplotlib inline"
   ]
  },
  {
   "cell_type": "code",
   "execution_count": 57,
   "metadata": {},
   "outputs": [
    {
     "name": "stdout",
     "output_type": "stream",
     "text": [
      "                name\n",
      "0    sqlite_sequence\n",
      "1  Player_Attributes\n",
      "2             Player\n",
      "3              Match\n",
      "4             League\n",
      "5            Country\n",
      "6               Team\n",
      "7    Team_Attributes\n"
     ]
    }
   ],
   "source": [
    "# Create your connection.\n",
    "cnx = sqlite3.connect('database.sqlite')\n",
    "dd = pd.read_sql_query(\"SELECT name FROM sqlite_master WHERE type='table'\", cnx)\n",
    "print(dd)"
   ]
  },
  {
   "cell_type": "code",
   "execution_count": 58,
   "metadata": {},
   "outputs": [],
   "source": [
    "df = pd.DataFrame(pd.read_sql_query(\"SELECT * FROM Player_Attributes\", cnx))"
   ]
  },
  {
   "cell_type": "code",
   "execution_count": 71,
   "metadata": {},
   "outputs": [
    {
     "data": {
      "text/html": [
       "<div>\n",
       "<style scoped>\n",
       "    .dataframe tbody tr th:only-of-type {\n",
       "        vertical-align: middle;\n",
       "    }\n",
       "\n",
       "    .dataframe tbody tr th {\n",
       "        vertical-align: top;\n",
       "    }\n",
       "\n",
       "    .dataframe thead th {\n",
       "        text-align: right;\n",
       "    }\n",
       "</style>\n",
       "<table border=\"1\" class=\"dataframe\">\n",
       "  <thead>\n",
       "    <tr style=\"text-align: right;\">\n",
       "      <th></th>\n",
       "      <th>id</th>\n",
       "      <th>player_fifa_api_id</th>\n",
       "      <th>player_api_id</th>\n",
       "      <th>date</th>\n",
       "      <th>potential</th>\n",
       "      <th>preferred_foot</th>\n",
       "      <th>attacking_work_rate</th>\n",
       "      <th>defensive_work_rate</th>\n",
       "      <th>crossing</th>\n",
       "      <th>finishing</th>\n",
       "      <th>...</th>\n",
       "      <th>vision</th>\n",
       "      <th>penalties</th>\n",
       "      <th>marking</th>\n",
       "      <th>standing_tackle</th>\n",
       "      <th>sliding_tackle</th>\n",
       "      <th>gk_diving</th>\n",
       "      <th>gk_handling</th>\n",
       "      <th>gk_kicking</th>\n",
       "      <th>gk_positioning</th>\n",
       "      <th>gk_reflexes</th>\n",
       "    </tr>\n",
       "  </thead>\n",
       "  <tbody>\n",
       "    <tr>\n",
       "      <th>0</th>\n",
       "      <td>1</td>\n",
       "      <td>218353</td>\n",
       "      <td>505942</td>\n",
       "      <td>2016-02-18 00:00:00</td>\n",
       "      <td>71.0</td>\n",
       "      <td>right</td>\n",
       "      <td>medium</td>\n",
       "      <td>medium</td>\n",
       "      <td>49.0</td>\n",
       "      <td>44.0</td>\n",
       "      <td>...</td>\n",
       "      <td>54.0</td>\n",
       "      <td>48.0</td>\n",
       "      <td>65.0</td>\n",
       "      <td>69.0</td>\n",
       "      <td>69.0</td>\n",
       "      <td>6.0</td>\n",
       "      <td>11.0</td>\n",
       "      <td>10.0</td>\n",
       "      <td>8.0</td>\n",
       "      <td>8.0</td>\n",
       "    </tr>\n",
       "    <tr>\n",
       "      <th>1</th>\n",
       "      <td>2</td>\n",
       "      <td>218353</td>\n",
       "      <td>505942</td>\n",
       "      <td>2015-11-19 00:00:00</td>\n",
       "      <td>71.0</td>\n",
       "      <td>right</td>\n",
       "      <td>medium</td>\n",
       "      <td>medium</td>\n",
       "      <td>49.0</td>\n",
       "      <td>44.0</td>\n",
       "      <td>...</td>\n",
       "      <td>54.0</td>\n",
       "      <td>48.0</td>\n",
       "      <td>65.0</td>\n",
       "      <td>69.0</td>\n",
       "      <td>69.0</td>\n",
       "      <td>6.0</td>\n",
       "      <td>11.0</td>\n",
       "      <td>10.0</td>\n",
       "      <td>8.0</td>\n",
       "      <td>8.0</td>\n",
       "    </tr>\n",
       "    <tr>\n",
       "      <th>2</th>\n",
       "      <td>3</td>\n",
       "      <td>218353</td>\n",
       "      <td>505942</td>\n",
       "      <td>2015-09-21 00:00:00</td>\n",
       "      <td>66.0</td>\n",
       "      <td>right</td>\n",
       "      <td>medium</td>\n",
       "      <td>medium</td>\n",
       "      <td>49.0</td>\n",
       "      <td>44.0</td>\n",
       "      <td>...</td>\n",
       "      <td>54.0</td>\n",
       "      <td>48.0</td>\n",
       "      <td>65.0</td>\n",
       "      <td>66.0</td>\n",
       "      <td>69.0</td>\n",
       "      <td>6.0</td>\n",
       "      <td>11.0</td>\n",
       "      <td>10.0</td>\n",
       "      <td>8.0</td>\n",
       "      <td>8.0</td>\n",
       "    </tr>\n",
       "    <tr>\n",
       "      <th>3</th>\n",
       "      <td>4</td>\n",
       "      <td>218353</td>\n",
       "      <td>505942</td>\n",
       "      <td>2015-03-20 00:00:00</td>\n",
       "      <td>65.0</td>\n",
       "      <td>right</td>\n",
       "      <td>medium</td>\n",
       "      <td>medium</td>\n",
       "      <td>48.0</td>\n",
       "      <td>43.0</td>\n",
       "      <td>...</td>\n",
       "      <td>53.0</td>\n",
       "      <td>47.0</td>\n",
       "      <td>62.0</td>\n",
       "      <td>63.0</td>\n",
       "      <td>66.0</td>\n",
       "      <td>5.0</td>\n",
       "      <td>10.0</td>\n",
       "      <td>9.0</td>\n",
       "      <td>7.0</td>\n",
       "      <td>7.0</td>\n",
       "    </tr>\n",
       "    <tr>\n",
       "      <th>4</th>\n",
       "      <td>5</td>\n",
       "      <td>218353</td>\n",
       "      <td>505942</td>\n",
       "      <td>2007-02-22 00:00:00</td>\n",
       "      <td>65.0</td>\n",
       "      <td>right</td>\n",
       "      <td>medium</td>\n",
       "      <td>medium</td>\n",
       "      <td>48.0</td>\n",
       "      <td>43.0</td>\n",
       "      <td>...</td>\n",
       "      <td>53.0</td>\n",
       "      <td>47.0</td>\n",
       "      <td>62.0</td>\n",
       "      <td>63.0</td>\n",
       "      <td>66.0</td>\n",
       "      <td>5.0</td>\n",
       "      <td>10.0</td>\n",
       "      <td>9.0</td>\n",
       "      <td>7.0</td>\n",
       "      <td>7.0</td>\n",
       "    </tr>\n",
       "  </tbody>\n",
       "</table>\n",
       "<p>5 rows × 41 columns</p>\n",
       "</div>"
      ],
      "text/plain": [
       "   id  player_fifa_api_id  player_api_id                 date  potential  \\\n",
       "0   1              218353         505942  2016-02-18 00:00:00       71.0   \n",
       "1   2              218353         505942  2015-11-19 00:00:00       71.0   \n",
       "2   3              218353         505942  2015-09-21 00:00:00       66.0   \n",
       "3   4              218353         505942  2015-03-20 00:00:00       65.0   \n",
       "4   5              218353         505942  2007-02-22 00:00:00       65.0   \n",
       "\n",
       "  preferred_foot attacking_work_rate defensive_work_rate  crossing  finishing  \\\n",
       "0          right              medium              medium      49.0       44.0   \n",
       "1          right              medium              medium      49.0       44.0   \n",
       "2          right              medium              medium      49.0       44.0   \n",
       "3          right              medium              medium      48.0       43.0   \n",
       "4          right              medium              medium      48.0       43.0   \n",
       "\n",
       "      ...       vision  penalties  marking  standing_tackle  sliding_tackle  \\\n",
       "0     ...         54.0       48.0     65.0             69.0            69.0   \n",
       "1     ...         54.0       48.0     65.0             69.0            69.0   \n",
       "2     ...         54.0       48.0     65.0             66.0            69.0   \n",
       "3     ...         53.0       47.0     62.0             63.0            66.0   \n",
       "4     ...         53.0       47.0     62.0             63.0            66.0   \n",
       "\n",
       "   gk_diving  gk_handling  gk_kicking  gk_positioning  gk_reflexes  \n",
       "0        6.0         11.0        10.0             8.0          8.0  \n",
       "1        6.0         11.0        10.0             8.0          8.0  \n",
       "2        6.0         11.0        10.0             8.0          8.0  \n",
       "3        5.0         10.0         9.0             7.0          7.0  \n",
       "4        5.0         10.0         9.0             7.0          7.0  \n",
       "\n",
       "[5 rows x 41 columns]"
      ]
     },
     "execution_count": 71,
     "metadata": {},
     "output_type": "execute_result"
    }
   ],
   "source": [
    "df.head()"
   ]
  },
  {
   "cell_type": "code",
   "execution_count": 61,
   "metadata": {},
   "outputs": [
    {
     "data": {
      "text/plain": [
       "(183978, 41)"
      ]
     },
     "execution_count": 61,
     "metadata": {},
     "output_type": "execute_result"
    }
   ],
   "source": [
    "target = df.pop('overall_rating')\n",
    "df.shape"
   ]
  },
  {
   "cell_type": "markdown",
   "metadata": {},
   "source": [
    "#calculat missing data"
   ]
  },
  {
   "cell_type": "code",
   "execution_count": 73,
   "metadata": {},
   "outputs": [
    {
     "name": "stdout",
     "output_type": "stream",
     "text": [
      "<class 'pandas.core.frame.DataFrame'>\n",
      "RangeIndex: 183978 entries, 0 to 183977\n",
      "Data columns (total 41 columns):\n",
      "id                     183978 non-null int64\n",
      "player_fifa_api_id     183978 non-null int64\n",
      "player_api_id          183978 non-null int64\n",
      "date                   183978 non-null object\n",
      "potential              183142 non-null float64\n",
      "preferred_foot         183142 non-null object\n",
      "attacking_work_rate    180748 non-null object\n",
      "defensive_work_rate    183142 non-null object\n",
      "crossing               183142 non-null float64\n",
      "finishing              183142 non-null float64\n",
      "heading_accuracy       183142 non-null float64\n",
      "short_passing          183142 non-null float64\n",
      "volleys                181265 non-null float64\n",
      "dribbling              183142 non-null float64\n",
      "curve                  181265 non-null float64\n",
      "free_kick_accuracy     183142 non-null float64\n",
      "long_passing           183142 non-null float64\n",
      "ball_control           183142 non-null float64\n",
      "acceleration           183142 non-null float64\n",
      "sprint_speed           183142 non-null float64\n",
      "agility                181265 non-null float64\n",
      "reactions              183142 non-null float64\n",
      "balance                181265 non-null float64\n",
      "shot_power             183142 non-null float64\n",
      "jumping                181265 non-null float64\n",
      "stamina                183142 non-null float64\n",
      "strength               183142 non-null float64\n",
      "long_shots             183142 non-null float64\n",
      "aggression             183142 non-null float64\n",
      "interceptions          183142 non-null float64\n",
      "positioning            183142 non-null float64\n",
      "vision                 181265 non-null float64\n",
      "penalties              183142 non-null float64\n",
      "marking                183142 non-null float64\n",
      "standing_tackle        183142 non-null float64\n",
      "sliding_tackle         181265 non-null float64\n",
      "gk_diving              183142 non-null float64\n",
      "gk_handling            183142 non-null float64\n",
      "gk_kicking             183142 non-null float64\n",
      "gk_positioning         183142 non-null float64\n",
      "gk_reflexes            183142 non-null float64\n",
      "dtypes: float64(34), int64(3), object(4)\n",
      "memory usage: 57.5+ MB\n"
     ]
    }
   ],
   "source": [
    "df.info()"
   ]
  },
  {
   "cell_type": "code",
   "execution_count": 15,
   "metadata": {},
   "outputs": [
    {
     "data": {
      "text/plain": [
       "836"
      ]
     },
     "execution_count": 15,
     "metadata": {},
     "output_type": "execute_result"
    }
   ],
   "source": [
    "target.isnull().values.sum()"
   ]
  },
  {
   "cell_type": "code",
   "execution_count": 62,
   "metadata": {},
   "outputs": [
    {
     "data": {
      "text/plain": [
       "count    183142.000000\n",
       "mean         68.600015\n",
       "std           7.041139\n",
       "min          33.000000\n",
       "25%          64.000000\n",
       "50%          69.000000\n",
       "75%          73.000000\n",
       "max          94.000000\n",
       "Name: overall_rating, dtype: float64"
      ]
     },
     "execution_count": 62,
     "metadata": {},
     "output_type": "execute_result"
    }
   ],
   "source": [
    "target.describe()"
   ]
  },
  {
   "cell_type": "code",
   "execution_count": 63,
   "metadata": {},
   "outputs": [
    {
     "name": "stderr",
     "output_type": "stream",
     "text": [
      "C:\\ProgramData\\Anaconda3\\lib\\site-packages\\numpy\\lib\\function_base.py:780: RuntimeWarning: invalid value encountered in greater_equal\n",
      "  keep = (tmp_a >= first_edge)\n",
      "C:\\ProgramData\\Anaconda3\\lib\\site-packages\\numpy\\lib\\function_base.py:781: RuntimeWarning: invalid value encountered in less_equal\n",
      "  keep &= (tmp_a <= last_edge)\n"
     ]
    },
    {
     "data": {
      "text/plain": [
       "(array([7.0000e+00, 6.0000e+00, 2.0000e+01, 6.5000e+01, 9.4000e+01,\n",
       "        1.4200e+02, 2.9400e+02, 5.2600e+02, 1.2510e+03, 1.8450e+03,\n",
       "        2.5780e+03, 4.0870e+03, 6.1890e+03, 9.6500e+03, 1.3745e+04,\n",
       "        1.8366e+04, 2.0310e+04, 2.0773e+04, 1.9382e+04, 1.8784e+04,\n",
       "        1.5915e+04, 1.1254e+04, 7.5250e+03, 4.9470e+03, 2.8290e+03,\n",
       "        1.4590e+03, 7.4800e+02, 2.2800e+02, 8.4000e+01, 3.9000e+01]),\n",
       " array([33.        , 35.03333333, 37.06666667, 39.1       , 41.13333333,\n",
       "        43.16666667, 45.2       , 47.23333333, 49.26666667, 51.3       ,\n",
       "        53.33333333, 55.36666667, 57.4       , 59.43333333, 61.46666667,\n",
       "        63.5       , 65.53333333, 67.56666667, 69.6       , 71.63333333,\n",
       "        73.66666667, 75.7       , 77.73333333, 79.76666667, 81.8       ,\n",
       "        83.83333333, 85.86666667, 87.9       , 89.93333333, 91.96666667,\n",
       "        94.        ]),\n",
       " <a list of 30 Patch objects>)"
      ]
     },
     "execution_count": 63,
     "metadata": {},
     "output_type": "execute_result"
    },
    {
     "data": {
      "image/png": "[encoded data removed]",
      "text/plain": [
       "<matplotlib.figure.Figure at 0x1ffefb74710>"
      ]
     },
     "metadata": {},
     "output_type": "display_data"
    }
   ],
   "source": [
    "plt.hist(target, 30, range=(33, 94))"
   ]
  },
  {
   "cell_type": "code",
   "execution_count": 81,
   "metadata": {},
   "outputs": [],
   "source": [
    "y = target.fillna(target.mean())"
   ]
  },
  {
   "cell_type": "code",
   "execution_count": 82,
   "metadata": {},
   "outputs": [
    {
     "data": {
      "text/plain": [
       "0"
      ]
     },
     "execution_count": 82,
     "metadata": {},
     "output_type": "execute_result"
    }
   ],
   "source": [
    "y.isnull().values.sum()"
   ]
  },
  {
   "cell_type": "code",
   "execution_count": 83,
   "metadata": {},
   "outputs": [
    {
     "data": {
      "text/plain": [
       "False"
      ]
     },
     "execution_count": 83,
     "metadata": {},
     "output_type": "execute_result"
    }
   ],
   "source": [
    "y.isnull().values.any()"
   ]
  },
  {
   "cell_type": "code",
   "execution_count": 84,
   "metadata": {},
   "outputs": [
    {
     "data": {
      "text/plain": [
       "Index(['id', 'player_fifa_api_id', 'player_api_id', 'date', 'potential',\n",
       "       'preferred_foot', 'attacking_work_rate', 'defensive_work_rate',\n",
       "       'crossing', 'finishing', 'heading_accuracy', 'short_passing', 'volleys',\n",
       "       'dribbling', 'curve', 'free_kick_accuracy', 'long_passing',\n",
       "       'ball_control', 'acceleration', 'sprint_speed', 'agility', 'reactions',\n",
       "       'balance', 'shot_power', 'jumping', 'stamina', 'strength', 'long_shots',\n",
       "       'aggression', 'interceptions', 'positioning', 'vision', 'penalties',\n",
       "       'marking', 'standing_tackle', 'sliding_tackle', 'gk_diving',\n",
       "       'gk_handling', 'gk_kicking', 'gk_positioning', 'gk_reflexes'],\n",
       "      dtype='object')"
      ]
     },
     "execution_count": 84,
     "metadata": {},
     "output_type": "execute_result"
    }
   ],
   "source": [
    "df.columns"
   ]
  },
  {
   "cell_type": "code",
   "execution_count": 72,
   "metadata": {},
   "outputs": [
    {
     "name": "stdout",
     "output_type": "stream",
     "text": [
      "id\t\t\t183978\t\t\tint64\n",
      "player_fifa_api_id\t\t\t11062\t\t\tint64\n",
      "player_api_id\t\t\t11060\t\t\tint64\n",
      "date\t\t\t197\t\t\tobject\n",
      "potential\t\t\t57\t\t\tfloat64\n",
      "preferred_foot\t\t\t3\t\t\tobject\n",
      "attacking_work_rate\t\t\t9\t\t\tobject\n",
      "defensive_work_rate\t\t\t20\t\t\tobject\n",
      "crossing\t\t\t96\t\t\tfloat64\n",
      "finishing\t\t\t98\t\t\tfloat64\n",
      "heading_accuracy\t\t\t97\t\t\tfloat64\n",
      "short_passing\t\t\t96\t\t\tfloat64\n",
      "volleys\t\t\t94\t\t\tfloat64\n",
      "dribbling\t\t\t98\t\t\tfloat64\n",
      "curve\t\t\t93\t\t\tfloat64\n",
      "free_kick_accuracy\t\t\t98\t\t\tfloat64\n",
      "long_passing\t\t\t96\t\t\tfloat64\n",
      "ball_control\t\t\t94\t\t\tfloat64\n",
      "acceleration\t\t\t87\t\t\tfloat64\n",
      "sprint_speed\t\t\t86\t\t\tfloat64\n",
      "agility\t\t\t82\t\t\tfloat64\n",
      "reactions\t\t\t79\t\t\tfloat64\n",
      "balance\t\t\t82\t\t\tfloat64\n",
      "shot_power\t\t\t97\t\t\tfloat64\n",
      "jumping\t\t\t80\t\t\tfloat64\n",
      "stamina\t\t\t85\t\t\tfloat64\n",
      "strength\t\t\t83\t\t\tfloat64\n",
      "long_shots\t\t\t97\t\t\tfloat64\n",
      "aggression\t\t\t92\t\t\tfloat64\n",
      "interceptions\t\t\t97\t\t\tfloat64\n",
      "positioning\t\t\t96\t\t\tfloat64\n",
      "vision\t\t\t98\t\t\tfloat64\n",
      "penalties\t\t\t95\t\t\tfloat64\n",
      "marking\t\t\t96\t\t\tfloat64\n",
      "standing_tackle\t\t\t96\t\t\tfloat64\n",
      "sliding_tackle\t\t\t95\t\t\tfloat64\n",
      "gk_diving\t\t\t94\t\t\tfloat64\n",
      "gk_handling\t\t\t91\t\t\tfloat64\n",
      "gk_kicking\t\t\t98\t\t\tfloat64\n",
      "gk_positioning\t\t\t95\t\t\tfloat64\n",
      "gk_reflexes\t\t\t93\t\t\tfloat64\n"
     ]
    }
   ],
   "source": [
    "\n",
    "for col in df.columns:\n",
    "    unique_cat = len(df[col].unique())\n",
    "    print(\"{col}\\t\\t\\t{unique_cat}\\t\\t\\t{typ}\".format(col=col, unique_cat=unique_cat, typ=df[col].dtype))\n",
    "\n"
   ]
  },
  {
   "cell_type": "markdown",
   "metadata": {},
   "source": [
    "## Train and Test Split"
   ]
  },
  {
   "cell_type": "markdown",
   "metadata": {},
   "source": [
    "**One Hot Encoding**"
   ]
  },
  {
   "cell_type": "markdown",
   "metadata": {},
   "source": [
    "One Hot Encoding is the process of splitting categorical levels to multiple columns"
   ]
  },
  {
   "cell_type": "code",
   "execution_count": 85,
   "metadata": {},
   "outputs": [
    {
     "data": {
      "text/html": [
       "<div>\n",
       "<style scoped>\n",
       "    .dataframe tbody tr th:only-of-type {\n",
       "        vertical-align: middle;\n",
       "    }\n",
       "\n",
       "    .dataframe tbody tr th {\n",
       "        vertical-align: top;\n",
       "    }\n",
       "\n",
       "    .dataframe thead th {\n",
       "        text-align: right;\n",
       "    }\n",
       "</style>\n",
       "<table border=\"1\" class=\"dataframe\">\n",
       "  <thead>\n",
       "    <tr style=\"text-align: right;\">\n",
       "      <th></th>\n",
       "      <th>id</th>\n",
       "      <th>player_fifa_api_id</th>\n",
       "      <th>player_api_id</th>\n",
       "      <th>date</th>\n",
       "      <th>potential</th>\n",
       "      <th>crossing</th>\n",
       "      <th>finishing</th>\n",
       "      <th>heading_accuracy</th>\n",
       "      <th>short_passing</th>\n",
       "      <th>volleys</th>\n",
       "      <th>...</th>\n",
       "      <th>defensive_work_rate_9</th>\n",
       "      <th>defensive_work_rate__0</th>\n",
       "      <th>defensive_work_rate_ean</th>\n",
       "      <th>defensive_work_rate_es</th>\n",
       "      <th>defensive_work_rate_high</th>\n",
       "      <th>defensive_work_rate_low</th>\n",
       "      <th>defensive_work_rate_medium</th>\n",
       "      <th>defensive_work_rate_o</th>\n",
       "      <th>defensive_work_rate_ormal</th>\n",
       "      <th>defensive_work_rate_tocky</th>\n",
       "    </tr>\n",
       "  </thead>\n",
       "  <tbody>\n",
       "    <tr>\n",
       "      <th>0</th>\n",
       "      <td>1</td>\n",
       "      <td>218353</td>\n",
       "      <td>505942</td>\n",
       "      <td>2016-02-18 00:00:00</td>\n",
       "      <td>71.0</td>\n",
       "      <td>49.0</td>\n",
       "      <td>44.0</td>\n",
       "      <td>71.0</td>\n",
       "      <td>61.0</td>\n",
       "      <td>44.0</td>\n",
       "      <td>...</td>\n",
       "      <td>0</td>\n",
       "      <td>0</td>\n",
       "      <td>0</td>\n",
       "      <td>0</td>\n",
       "      <td>0</td>\n",
       "      <td>0</td>\n",
       "      <td>1</td>\n",
       "      <td>0</td>\n",
       "      <td>0</td>\n",
       "      <td>0</td>\n",
       "    </tr>\n",
       "    <tr>\n",
       "      <th>1</th>\n",
       "      <td>2</td>\n",
       "      <td>218353</td>\n",
       "      <td>505942</td>\n",
       "      <td>2015-11-19 00:00:00</td>\n",
       "      <td>71.0</td>\n",
       "      <td>49.0</td>\n",
       "      <td>44.0</td>\n",
       "      <td>71.0</td>\n",
       "      <td>61.0</td>\n",
       "      <td>44.0</td>\n",
       "      <td>...</td>\n",
       "      <td>0</td>\n",
       "      <td>0</td>\n",
       "      <td>0</td>\n",
       "      <td>0</td>\n",
       "      <td>0</td>\n",
       "      <td>0</td>\n",
       "      <td>1</td>\n",
       "      <td>0</td>\n",
       "      <td>0</td>\n",
       "      <td>0</td>\n",
       "    </tr>\n",
       "    <tr>\n",
       "      <th>2</th>\n",
       "      <td>3</td>\n",
       "      <td>218353</td>\n",
       "      <td>505942</td>\n",
       "      <td>2015-09-21 00:00:00</td>\n",
       "      <td>66.0</td>\n",
       "      <td>49.0</td>\n",
       "      <td>44.0</td>\n",
       "      <td>71.0</td>\n",
       "      <td>61.0</td>\n",
       "      <td>44.0</td>\n",
       "      <td>...</td>\n",
       "      <td>0</td>\n",
       "      <td>0</td>\n",
       "      <td>0</td>\n",
       "      <td>0</td>\n",
       "      <td>0</td>\n",
       "      <td>0</td>\n",
       "      <td>1</td>\n",
       "      <td>0</td>\n",
       "      <td>0</td>\n",
       "      <td>0</td>\n",
       "    </tr>\n",
       "    <tr>\n",
       "      <th>3</th>\n",
       "      <td>4</td>\n",
       "      <td>218353</td>\n",
       "      <td>505942</td>\n",
       "      <td>2015-03-20 00:00:00</td>\n",
       "      <td>65.0</td>\n",
       "      <td>48.0</td>\n",
       "      <td>43.0</td>\n",
       "      <td>70.0</td>\n",
       "      <td>60.0</td>\n",
       "      <td>43.0</td>\n",
       "      <td>...</td>\n",
       "      <td>0</td>\n",
       "      <td>0</td>\n",
       "      <td>0</td>\n",
       "      <td>0</td>\n",
       "      <td>0</td>\n",
       "      <td>0</td>\n",
       "      <td>1</td>\n",
       "      <td>0</td>\n",
       "      <td>0</td>\n",
       "      <td>0</td>\n",
       "    </tr>\n",
       "    <tr>\n",
       "      <th>4</th>\n",
       "      <td>5</td>\n",
       "      <td>218353</td>\n",
       "      <td>505942</td>\n",
       "      <td>2007-02-22 00:00:00</td>\n",
       "      <td>65.0</td>\n",
       "      <td>48.0</td>\n",
       "      <td>43.0</td>\n",
       "      <td>70.0</td>\n",
       "      <td>60.0</td>\n",
       "      <td>43.0</td>\n",
       "      <td>...</td>\n",
       "      <td>0</td>\n",
       "      <td>0</td>\n",
       "      <td>0</td>\n",
       "      <td>0</td>\n",
       "      <td>0</td>\n",
       "      <td>0</td>\n",
       "      <td>1</td>\n",
       "      <td>0</td>\n",
       "      <td>0</td>\n",
       "      <td>0</td>\n",
       "    </tr>\n",
       "  </tbody>\n",
       "</table>\n",
       "<p>5 rows × 67 columns</p>\n",
       "</div>"
      ],
      "text/plain": [
       "   id  player_fifa_api_id  player_api_id                 date  potential  \\\n",
       "0   1              218353         505942  2016-02-18 00:00:00       71.0   \n",
       "1   2              218353         505942  2015-11-19 00:00:00       71.0   \n",
       "2   3              218353         505942  2015-09-21 00:00:00       66.0   \n",
       "3   4              218353         505942  2015-03-20 00:00:00       65.0   \n",
       "4   5              218353         505942  2007-02-22 00:00:00       65.0   \n",
       "\n",
       "   crossing  finishing  heading_accuracy  short_passing  volleys  \\\n",
       "0      49.0       44.0              71.0           61.0     44.0   \n",
       "1      49.0       44.0              71.0           61.0     44.0   \n",
       "2      49.0       44.0              71.0           61.0     44.0   \n",
       "3      48.0       43.0              70.0           60.0     43.0   \n",
       "4      48.0       43.0              70.0           60.0     43.0   \n",
       "\n",
       "             ...              defensive_work_rate_9  defensive_work_rate__0  \\\n",
       "0            ...                                  0                       0   \n",
       "1            ...                                  0                       0   \n",
       "2            ...                                  0                       0   \n",
       "3            ...                                  0                       0   \n",
       "4            ...                                  0                       0   \n",
       "\n",
       "   defensive_work_rate_ean  defensive_work_rate_es  defensive_work_rate_high  \\\n",
       "0                        0                       0                         0   \n",
       "1                        0                       0                         0   \n",
       "2                        0                       0                         0   \n",
       "3                        0                       0                         0   \n",
       "4                        0                       0                         0   \n",
       "\n",
       "   defensive_work_rate_low  defensive_work_rate_medium  defensive_work_rate_o  \\\n",
       "0                        0                           1                      0   \n",
       "1                        0                           1                      0   \n",
       "2                        0                           1                      0   \n",
       "3                        0                           1                      0   \n",
       "4                        0                           1                      0   \n",
       "\n",
       "   defensive_work_rate_ormal  defensive_work_rate_tocky  \n",
       "0                          0                          0  \n",
       "1                          0                          0  \n",
       "2                          0                          0  \n",
       "3                          0                          0  \n",
       "4                          0                          0  \n",
       "\n",
       "[5 rows x 67 columns]"
      ]
     },
     "execution_count": 85,
     "metadata": {},
     "output_type": "execute_result"
    }
   ],
   "source": [
    "dummy_df = pd.get_dummies(df, columns=['preferred_foot', 'attacking_work_rate', 'defensive_work_rate'])\n",
    "dummy_df.head()"
   ]
  },
  {
   "cell_type": "code",
   "execution_count": 86,
   "metadata": {},
   "outputs": [
    {
     "data": {
      "text/plain": [
       "Index(['id', 'player_fifa_api_id', 'player_api_id', 'date', 'potential',\n",
       "       'crossing', 'finishing', 'heading_accuracy', 'short_passing', 'volleys',\n",
       "       'dribbling', 'curve', 'free_kick_accuracy', 'long_passing',\n",
       "       'ball_control', 'acceleration', 'sprint_speed', 'agility', 'reactions',\n",
       "       'balance', 'shot_power', 'jumping', 'stamina', 'strength', 'long_shots',\n",
       "       'aggression', 'interceptions', 'positioning', 'vision', 'penalties',\n",
       "       'marking', 'standing_tackle', 'sliding_tackle', 'gk_diving',\n",
       "       'gk_handling', 'gk_kicking', 'gk_positioning', 'gk_reflexes',\n",
       "       'preferred_foot_left', 'preferred_foot_right',\n",
       "       'attacking_work_rate_None', 'attacking_work_rate_high',\n",
       "       'attacking_work_rate_le', 'attacking_work_rate_low',\n",
       "       'attacking_work_rate_medium', 'attacking_work_rate_norm',\n",
       "       'attacking_work_rate_stoc', 'attacking_work_rate_y',\n",
       "       'defensive_work_rate_0', 'defensive_work_rate_1',\n",
       "       'defensive_work_rate_2', 'defensive_work_rate_3',\n",
       "       'defensive_work_rate_4', 'defensive_work_rate_5',\n",
       "       'defensive_work_rate_6', 'defensive_work_rate_7',\n",
       "       'defensive_work_rate_8', 'defensive_work_rate_9',\n",
       "       'defensive_work_rate__0', 'defensive_work_rate_ean',\n",
       "       'defensive_work_rate_es', 'defensive_work_rate_high',\n",
       "       'defensive_work_rate_low', 'defensive_work_rate_medium',\n",
       "       'defensive_work_rate_o', 'defensive_work_rate_ormal',\n",
       "       'defensive_work_rate_tocky'],\n",
       "      dtype='object')"
      ]
     },
     "execution_count": 86,
     "metadata": {},
     "output_type": "execute_result"
    }
   ],
   "source": [
    "dummy_df.columns"
   ]
  },
  {
   "cell_type": "code",
   "execution_count": 87,
   "metadata": {},
   "outputs": [],
   "source": [
    "X  = dummy_df.drop(['id', 'date'], axis=1)"
   ]
  },
  {
   "cell_type": "code",
   "execution_count": 96,
   "metadata": {},
   "outputs": [],
   "source": [
    "x_train, x_test, y_train, y_test = train_test_split(X, y, test_size=0.25, random_state=42)"
   ]
  },
  {
   "cell_type": "code",
   "execution_count": 107,
   "metadata": {},
   "outputs": [
    {
     "data": {
      "text/plain": [
       "'imput = Imputer()\\nx_train = imput.fit_transform(x_train)\\nx_test = imput.fit_transform(x_test)\\n'"
      ]
     },
     "execution_count": 107,
     "metadata": {},
     "output_type": "execute_result"
    }
   ],
   "source": [
    "\"\"\"imput = Imputer()\n",
    "x_train = imput.fit_transform(x_train)\n",
    "x_test = imput.fit_transform(x_test)\n",
    "\"\"\""
   ]
  },
  {
   "cell_type": "code",
   "execution_count": 116,
   "metadata": {},
   "outputs": [
    {
     "data": {
      "text/plain": [
       "array([[1.00000e+00, 2.22537e+05, 5.32766e+05, ..., 0.00000e+00,\n",
       "        0.00000e+00, 0.00000e+00],\n",
       "       [1.00000e+00, 2.10462e+05, 2.87645e+05, ..., 0.00000e+00,\n",
       "        0.00000e+00, 0.00000e+00],\n",
       "       [1.00000e+00, 1.74859e+05, 2.82713e+05, ..., 0.00000e+00,\n",
       "        0.00000e+00, 0.00000e+00],\n",
       "       ...,\n",
       "       [1.00000e+00, 5.38690e+04, 2.32820e+04, ..., 0.00000e+00,\n",
       "        0.00000e+00, 0.00000e+00],\n",
       "       [1.00000e+00, 1.89431e+05, 1.19760e+05, ..., 0.00000e+00,\n",
       "        0.00000e+00, 0.00000e+00],\n",
       "       [1.00000e+00, 1.77509e+05, 4.68750e+04, ..., 0.00000e+00,\n",
       "        0.00000e+00, 0.00000e+00]])"
      ]
     },
     "execution_count": 116,
     "metadata": {},
     "output_type": "execute_result"
    }
   ],
   "source": [
    "x_train"
   ]
  },
  {
   "cell_type": "code",
   "execution_count": null,
   "metadata": {},
   "outputs": [],
   "source": [
    "print(x_train.shape)\n",
    "print(y_train.shape)"
   ]
  },
  {
   "cell_type": "code",
   "execution_count": 109,
   "metadata": {},
   "outputs": [
    {
     "name": "stdout",
     "output_type": "stream",
     "text": [
      "(45995, 66)\n",
      "(45995,)\n"
     ]
    }
   ],
   "source": [
    "print(x_test.shape)\n",
    "print(y_test.shape)"
   ]
  },
  {
   "cell_type": "markdown",
   "metadata": {},
   "source": [
    "## Fitting Regression Model"
   ]
  },
  {
   "cell_type": "markdown",
   "metadata": {},
   "source": [
    "### Using StatsModel"
   ]
  },
  {
   "cell_type": "code",
   "execution_count": 93,
   "metadata": {},
   "outputs": [
    {
     "name": "stderr",
     "output_type": "stream",
     "text": [
      "C:\\ProgramData\\Anaconda3\\lib\\site-packages\\statsmodels\\compat\\pandas.py:56: FutureWarning: The pandas.core.datetools module is deprecated and will be removed in a future version. Please use the pandas.tseries module instead.\n",
      "  from pandas.core import datetools\n"
     ]
    }
   ],
   "source": [
    "import statsmodels.api as sm"
   ]
  },
  {
   "cell_type": "code",
   "execution_count": 110,
   "metadata": {},
   "outputs": [],
   "source": [
    "x_train = sm.add_constant(x_train)\n",
    "x_test = sm.add_constant(x_test)\n",
    "model = sm.OLS(y_train, x_train).fit()"
   ]
  },
  {
   "cell_type": "code",
   "execution_count": 111,
   "metadata": {},
   "outputs": [
    {
     "data": {
      "text/html": [
       "<table class=\"simpletable\">\n",
       "<caption>OLS Regression Results</caption>\n",
       "<tr>\n",
       "  <th>Dep. Variable:</th>     <td>overall_rating</td>  <th>  R-squared:         </th>  <td>   0.861</td>  \n",
       "</tr>\n",
       "<tr>\n",
       "  <th>Model:</th>                   <td>OLS</td>       <th>  Adj. R-squared:    </th>  <td>   0.861</td>  \n",
       "</tr>\n",
       "<tr>\n",
       "  <th>Method:</th>             <td>Least Squares</td>  <th>  F-statistic:       </th>  <td>1.445e+04</td> \n",
       "</tr>\n",
       "<tr>\n",
       "  <th>Date:</th>             <td>Thu, 02 Aug 2018</td> <th>  Prob (F-statistic):</th>   <td>  0.00</td>   \n",
       "</tr>\n",
       "<tr>\n",
       "  <th>Time:</th>                 <td>01:57:04</td>     <th>  Log-Likelihood:    </th> <td>-3.2860e+05</td>\n",
       "</tr>\n",
       "<tr>\n",
       "  <th>No. Observations:</th>      <td>137983</td>      <th>  AIC:               </th>  <td>6.573e+05</td> \n",
       "</tr>\n",
       "<tr>\n",
       "  <th>Df Residuals:</th>          <td>137923</td>      <th>  BIC:               </th>  <td>6.579e+05</td> \n",
       "</tr>\n",
       "<tr>\n",
       "  <th>Df Model:</th>              <td>    59</td>      <th>                     </th>      <td> </td>     \n",
       "</tr>\n",
       "<tr>\n",
       "  <th>Covariance Type:</th>      <td>nonrobust</td>    <th>                     </th>      <td> </td>     \n",
       "</tr>\n",
       "</table>\n",
       "<table class=\"simpletable\">\n",
       "<tr>\n",
       "    <td></td>       <th>coef</th>     <th>std err</th>      <th>t</th>      <th>P>|t|</th>  <th>[0.025</th>    <th>0.975]</th>  \n",
       "</tr>\n",
       "<tr>\n",
       "  <th>const</th> <td>   -0.2218</td> <td>    0.150</td> <td>   -1.482</td> <td> 0.138</td> <td>   -0.515</td> <td>    0.071</td>\n",
       "</tr>\n",
       "<tr>\n",
       "  <th>x1</th>    <td>-8.376e-06</td> <td> 1.72e-07</td> <td>  -48.668</td> <td> 0.000</td> <td>-8.71e-06</td> <td>-8.04e-06</td>\n",
       "</tr>\n",
       "<tr>\n",
       "  <th>x2</th>    <td>-6.414e-06</td> <td> 7.04e-08</td> <td>  -91.170</td> <td> 0.000</td> <td>-6.55e-06</td> <td>-6.28e-06</td>\n",
       "</tr>\n",
       "<tr>\n",
       "  <th>x3</th>    <td>    0.4461</td> <td>    0.002</td> <td>  267.400</td> <td> 0.000</td> <td>    0.443</td> <td>    0.449</td>\n",
       "</tr>\n",
       "<tr>\n",
       "  <th>x4</th>    <td>    0.0063</td> <td>    0.001</td> <td>    6.924</td> <td> 0.000</td> <td>    0.005</td> <td>    0.008</td>\n",
       "</tr>\n",
       "<tr>\n",
       "  <th>x5</th>    <td>    0.0143</td> <td>    0.001</td> <td>   14.474</td> <td> 0.000</td> <td>    0.012</td> <td>    0.016</td>\n",
       "</tr>\n",
       "<tr>\n",
       "  <th>x6</th>    <td>    0.0569</td> <td>    0.001</td> <td>   64.607</td> <td> 0.000</td> <td>    0.055</td> <td>    0.059</td>\n",
       "</tr>\n",
       "<tr>\n",
       "  <th>x7</th>    <td>    0.0569</td> <td>    0.001</td> <td>   38.470</td> <td> 0.000</td> <td>    0.054</td> <td>    0.060</td>\n",
       "</tr>\n",
       "<tr>\n",
       "  <th>x8</th>    <td>   -0.0065</td> <td>    0.001</td> <td>   -7.294</td> <td> 0.000</td> <td>   -0.008</td> <td>   -0.005</td>\n",
       "</tr>\n",
       "<tr>\n",
       "  <th>x9</th>    <td>    0.0101</td> <td>    0.001</td> <td>    8.018</td> <td> 0.000</td> <td>    0.008</td> <td>    0.013</td>\n",
       "</tr>\n",
       "<tr>\n",
       "  <th>x10</th>   <td>    0.0115</td> <td>    0.001</td> <td>   13.357</td> <td> 0.000</td> <td>    0.010</td> <td>    0.013</td>\n",
       "</tr>\n",
       "<tr>\n",
       "  <th>x11</th>   <td>    0.0086</td> <td>    0.001</td> <td>   11.261</td> <td> 0.000</td> <td>    0.007</td> <td>    0.010</td>\n",
       "</tr>\n",
       "<tr>\n",
       "  <th>x12</th>   <td>    0.0097</td> <td>    0.001</td> <td>    9.653</td> <td> 0.000</td> <td>    0.008</td> <td>    0.012</td>\n",
       "</tr>\n",
       "<tr>\n",
       "  <th>x13</th>   <td>    0.1125</td> <td>    0.002</td> <td>   65.795</td> <td> 0.000</td> <td>    0.109</td> <td>    0.116</td>\n",
       "</tr>\n",
       "<tr>\n",
       "  <th>x14</th>   <td>    0.0102</td> <td>    0.001</td> <td>    6.864</td> <td> 0.000</td> <td>    0.007</td> <td>    0.013</td>\n",
       "</tr>\n",
       "<tr>\n",
       "  <th>x15</th>   <td>    0.0172</td> <td>    0.001</td> <td>   12.166</td> <td> 0.000</td> <td>    0.014</td> <td>    0.020</td>\n",
       "</tr>\n",
       "<tr>\n",
       "  <th>x16</th>   <td>   -0.0117</td> <td>    0.001</td> <td>  -10.657</td> <td> 0.000</td> <td>   -0.014</td> <td>   -0.010</td>\n",
       "</tr>\n",
       "<tr>\n",
       "  <th>x17</th>   <td>    0.1739</td> <td>    0.001</td> <td>  145.942</td> <td> 0.000</td> <td>    0.172</td> <td>    0.176</td>\n",
       "</tr>\n",
       "<tr>\n",
       "  <th>x18</th>   <td>    0.0046</td> <td>    0.001</td> <td>    5.466</td> <td> 0.000</td> <td>    0.003</td> <td>    0.006</td>\n",
       "</tr>\n",
       "<tr>\n",
       "  <th>x19</th>   <td>    0.0118</td> <td>    0.001</td> <td>   12.485</td> <td> 0.000</td> <td>    0.010</td> <td>    0.014</td>\n",
       "</tr>\n",
       "<tr>\n",
       "  <th>x20</th>   <td>    0.0114</td> <td>    0.001</td> <td>   14.366</td> <td> 0.000</td> <td>    0.010</td> <td>    0.013</td>\n",
       "</tr>\n",
       "<tr>\n",
       "  <th>x21</th>   <td>   -0.0013</td> <td>    0.001</td> <td>   -1.504</td> <td> 0.133</td> <td>   -0.003</td> <td>    0.000</td>\n",
       "</tr>\n",
       "<tr>\n",
       "  <th>x22</th>   <td>    0.0497</td> <td>    0.001</td> <td>   54.763</td> <td> 0.000</td> <td>    0.048</td> <td>    0.051</td>\n",
       "</tr>\n",
       "<tr>\n",
       "  <th>x23</th>   <td>   -0.0102</td> <td>    0.001</td> <td>  -10.393</td> <td> 0.000</td> <td>   -0.012</td> <td>   -0.008</td>\n",
       "</tr>\n",
       "<tr>\n",
       "  <th>x24</th>   <td>    0.0107</td> <td>    0.001</td> <td>   14.342</td> <td> 0.000</td> <td>    0.009</td> <td>    0.012</td>\n",
       "</tr>\n",
       "<tr>\n",
       "  <th>x25</th>   <td>    0.0035</td> <td>    0.001</td> <td>    4.397</td> <td> 0.000</td> <td>    0.002</td> <td>    0.005</td>\n",
       "</tr>\n",
       "<tr>\n",
       "  <th>x26</th>   <td>   -0.0049</td> <td>    0.001</td> <td>   -5.704</td> <td> 0.000</td> <td>   -0.007</td> <td>   -0.003</td>\n",
       "</tr>\n",
       "<tr>\n",
       "  <th>x27</th>   <td>   -0.0180</td> <td>    0.001</td> <td>  -19.011</td> <td> 0.000</td> <td>   -0.020</td> <td>   -0.016</td>\n",
       "</tr>\n",
       "<tr>\n",
       "  <th>x28</th>   <td>    0.0075</td> <td>    0.001</td> <td>    9.291</td> <td> 0.000</td> <td>    0.006</td> <td>    0.009</td>\n",
       "</tr>\n",
       "<tr>\n",
       "  <th>x29</th>   <td>    0.0261</td> <td>    0.001</td> <td>   21.789</td> <td> 0.000</td> <td>    0.024</td> <td>    0.028</td>\n",
       "</tr>\n",
       "<tr>\n",
       "  <th>x30</th>   <td>    0.0091</td> <td>    0.001</td> <td>    6.622</td> <td> 0.000</td> <td>    0.006</td> <td>    0.012</td>\n",
       "</tr>\n",
       "<tr>\n",
       "  <th>x31</th>   <td>   -0.0201</td> <td>    0.001</td> <td>  -17.603</td> <td> 0.000</td> <td>   -0.022</td> <td>   -0.018</td>\n",
       "</tr>\n",
       "<tr>\n",
       "  <th>x32</th>   <td>    0.1620</td> <td>    0.002</td> <td>  102.884</td> <td> 0.000</td> <td>    0.159</td> <td>    0.165</td>\n",
       "</tr>\n",
       "<tr>\n",
       "  <th>x33</th>   <td>    0.0242</td> <td>    0.002</td> <td>   11.679</td> <td> 0.000</td> <td>    0.020</td> <td>    0.028</td>\n",
       "</tr>\n",
       "<tr>\n",
       "  <th>x34</th>   <td>   -0.0439</td> <td>    0.001</td> <td>  -65.206</td> <td> 0.000</td> <td>   -0.045</td> <td>   -0.043</td>\n",
       "</tr>\n",
       "<tr>\n",
       "  <th>x35</th>   <td>    0.0470</td> <td>    0.002</td> <td>   22.738</td> <td> 0.000</td> <td>    0.043</td> <td>    0.051</td>\n",
       "</tr>\n",
       "<tr>\n",
       "  <th>x36</th>   <td>    0.0172</td> <td>    0.002</td> <td>    8.465</td> <td> 0.000</td> <td>    0.013</td> <td>    0.021</td>\n",
       "</tr>\n",
       "<tr>\n",
       "  <th>x37</th>   <td>    0.3212</td> <td>    0.092</td> <td>    3.475</td> <td> 0.001</td> <td>    0.140</td> <td>    0.502</td>\n",
       "</tr>\n",
       "<tr>\n",
       "  <th>x38</th>   <td>    0.3204</td> <td>    0.092</td> <td>    3.492</td> <td> 0.000</td> <td>    0.141</td> <td>    0.500</td>\n",
       "</tr>\n",
       "<tr>\n",
       "  <th>x39</th>   <td>    0.2398</td> <td>    0.090</td> <td>    2.652</td> <td> 0.008</td> <td>    0.063</td> <td>    0.417</td>\n",
       "</tr>\n",
       "<tr>\n",
       "  <th>x40</th>   <td>    0.6449</td> <td>    0.081</td> <td>    7.917</td> <td> 0.000</td> <td>    0.485</td> <td>    0.805</td>\n",
       "</tr>\n",
       "<tr>\n",
       "  <th>x41</th>   <td>   -0.6206</td> <td>    0.141</td> <td>   -4.412</td> <td> 0.000</td> <td>   -0.896</td> <td>   -0.345</td>\n",
       "</tr>\n",
       "<tr>\n",
       "  <th>x42</th>   <td>    1.5016</td> <td>    0.085</td> <td>   17.663</td> <td> 0.000</td> <td>    1.335</td> <td>    1.668</td>\n",
       "</tr>\n",
       "<tr>\n",
       "  <th>x43</th>   <td>    0.5014</td> <td>    0.081</td> <td>    6.228</td> <td> 0.000</td> <td>    0.344</td> <td>    0.659</td>\n",
       "</tr>\n",
       "<tr>\n",
       "  <th>x44</th>   <td>   -0.1031</td> <td>    0.081</td> <td>   -1.279</td> <td> 0.201</td> <td>   -0.261</td> <td>    0.055</td>\n",
       "</tr>\n",
       "<tr>\n",
       "  <th>x45</th>   <td>   -0.8166</td> <td>    0.153</td> <td>   -5.325</td> <td> 0.000</td> <td>   -1.117</td> <td>   -0.516</td>\n",
       "</tr>\n",
       "<tr>\n",
       "  <th>x46</th>   <td>   -0.2039</td> <td>    0.142</td> <td>   -1.437</td> <td> 0.151</td> <td>   -0.482</td> <td>    0.074</td>\n",
       "</tr>\n",
       "<tr>\n",
       "  <th>x47</th>   <td>    0.3928</td> <td>    0.203</td> <td>    1.934</td> <td> 0.053</td> <td>   -0.005</td> <td>    0.791</td>\n",
       "</tr>\n",
       "<tr>\n",
       "  <th>x48</th>   <td>    1.0701</td> <td>    0.148</td> <td>    7.213</td> <td> 0.000</td> <td>    0.779</td> <td>    1.361</td>\n",
       "</tr>\n",
       "<tr>\n",
       "  <th>x49</th>   <td>    0.1502</td> <td>    0.160</td> <td>    0.939</td> <td> 0.348</td> <td>   -0.163</td> <td>    0.464</td>\n",
       "</tr>\n",
       "<tr>\n",
       "  <th>x50</th>   <td>    0.5533</td> <td>    0.190</td> <td>    2.918</td> <td> 0.004</td> <td>    0.182</td> <td>    0.925</td>\n",
       "</tr>\n",
       "<tr>\n",
       "  <th>x51</th>   <td>   -0.6698</td> <td>    0.272</td> <td>   -2.463</td> <td> 0.014</td> <td>   -1.203</td> <td>   -0.137</td>\n",
       "</tr>\n",
       "<tr>\n",
       "  <th>x52</th>   <td>   -0.1706</td> <td>    0.194</td> <td>   -0.881</td> <td> 0.378</td> <td>   -0.550</td> <td>    0.209</td>\n",
       "</tr>\n",
       "<tr>\n",
       "  <th>x53</th>   <td>    0.0060</td> <td>    0.211</td> <td>    0.029</td> <td> 0.977</td> <td>   -0.408</td> <td>    0.420</td>\n",
       "</tr>\n",
       "<tr>\n",
       "  <th>x54</th>   <td>    0.6671</td> <td>    0.200</td> <td>    3.328</td> <td> 0.001</td> <td>    0.274</td> <td>    1.060</td>\n",
       "</tr>\n",
       "<tr>\n",
       "  <th>x55</th>   <td>    0.4808</td> <td>    0.326</td> <td>    1.474</td> <td> 0.141</td> <td>   -0.159</td> <td>    1.120</td>\n",
       "</tr>\n",
       "<tr>\n",
       "  <th>x56</th>   <td>    0.4821</td> <td>    0.244</td> <td>    1.973</td> <td> 0.048</td> <td>    0.003</td> <td>    0.961</td>\n",
       "</tr>\n",
       "<tr>\n",
       "  <th>x57</th>   <td>   -0.5020</td> <td>    0.076</td> <td>   -6.567</td> <td> 0.000</td> <td>   -0.652</td> <td>   -0.352</td>\n",
       "</tr>\n",
       "<tr>\n",
       "  <th>x58</th>   <td>   -0.6206</td> <td>    0.141</td> <td>   -4.412</td> <td> 0.000</td> <td>   -0.896</td> <td>   -0.345</td>\n",
       "</tr>\n",
       "<tr>\n",
       "  <th>x59</th>   <td>   -0.2039</td> <td>    0.142</td> <td>   -1.437</td> <td> 0.151</td> <td>   -0.482</td> <td>    0.074</td>\n",
       "</tr>\n",
       "<tr>\n",
       "  <th>x60</th>   <td>    0.0818</td> <td>    0.105</td> <td>    0.779</td> <td> 0.436</td> <td>   -0.124</td> <td>    0.288</td>\n",
       "</tr>\n",
       "<tr>\n",
       "  <th>x61</th>   <td>    0.3101</td> <td>    0.106</td> <td>    2.926</td> <td> 0.003</td> <td>    0.102</td> <td>    0.518</td>\n",
       "</tr>\n",
       "<tr>\n",
       "  <th>x62</th>   <td>   -0.1354</td> <td>    0.104</td> <td>   -1.304</td> <td> 0.192</td> <td>   -0.339</td> <td>    0.068</td>\n",
       "</tr>\n",
       "<tr>\n",
       "  <th>x63</th>   <td>   -0.3306</td> <td>    0.102</td> <td>   -3.253</td> <td> 0.001</td> <td>   -0.530</td> <td>   -0.131</td>\n",
       "</tr>\n",
       "<tr>\n",
       "  <th>x64</th>   <td>   -0.1031</td> <td>    0.081</td> <td>   -1.279</td> <td> 0.201</td> <td>   -0.261</td> <td>    0.055</td>\n",
       "</tr>\n",
       "<tr>\n",
       "  <th>x65</th>   <td>   -0.8166</td> <td>    0.153</td> <td>   -5.325</td> <td> 0.000</td> <td>   -1.117</td> <td>   -0.516</td>\n",
       "</tr>\n",
       "</table>\n",
       "<table class=\"simpletable\">\n",
       "<tr>\n",
       "  <th>Omnibus:</th>       <td>10666.370</td> <th>  Durbin-Watson:     </th> <td>   2.010</td> \n",
       "</tr>\n",
       "<tr>\n",
       "  <th>Prob(Omnibus):</th>  <td> 0.000</td>   <th>  Jarque-Bera (JB):  </th> <td>26530.713</td>\n",
       "</tr>\n",
       "<tr>\n",
       "  <th>Skew:</th>           <td>-0.465</td>   <th>  Prob(JB):          </th> <td>    0.00</td> \n",
       "</tr>\n",
       "<tr>\n",
       "  <th>Kurtosis:</th>       <td> 4.936</td>   <th>  Cond. No.          </th> <td>1.15e+16</td> \n",
       "</tr>\n",
       "</table>"
      ],
      "text/plain": [
       "<class 'statsmodels.iolib.summary.Summary'>\n",
       "\"\"\"\n",
       "                            OLS Regression Results                            \n",
       "==============================================================================\n",
       "Dep. Variable:         overall_rating   R-squared:                       0.861\n",
       "Model:                            OLS   Adj. R-squared:                  0.861\n",
       "Method:                 Least Squares   F-statistic:                 1.445e+04\n",
       "Date:                Thu, 02 Aug 2018   Prob (F-statistic):               0.00\n",
       "Time:                        01:57:04   Log-Likelihood:            -3.2860e+05\n",
       "No. Observations:              137983   AIC:                         6.573e+05\n",
       "Df Residuals:                  137923   BIC:                         6.579e+05\n",
       "Df Model:                          59                                         \n",
       "Covariance Type:            nonrobust                                         \n",
       "==============================================================================\n",
       "                 coef    std err          t      P>|t|      [0.025      0.975]\n",
       "------------------------------------------------------------------------------\n",
       "const         -0.2218      0.150     -1.482      0.138      -0.515       0.071\n",
       "x1         -8.376e-06   1.72e-07    -48.668      0.000   -8.71e-06   -8.04e-06\n",
       "x2         -6.414e-06   7.04e-08    -91.170      0.000   -6.55e-06   -6.28e-06\n",
       "x3             0.4461      0.002    267.400      0.000       0.443       0.449\n",
       "x4             0.0063      0.001      6.924      0.000       0.005       0.008\n",
       "x5             0.0143      0.001     14.474      0.000       0.012       0.016\n",
       "x6             0.0569      0.001     64.607      0.000       0.055       0.059\n",
       "x7             0.0569      0.001     38.470      0.000       0.054       0.060\n",
       "x8            -0.0065      0.001     -7.294      0.000      -0.008      -0.005\n",
       "x9             0.0101      0.001      8.018      0.000       0.008       0.013\n",
       "x10            0.0115      0.001     13.357      0.000       0.010       0.013\n",
       "x11            0.0086      0.001     11.261      0.000       0.007       0.010\n",
       "x12            0.0097      0.001      9.653      0.000       0.008       0.012\n",
       "x13            0.1125      0.002     65.795      0.000       0.109       0.116\n",
       "x14            0.0102      0.001      6.864      0.000       0.007       0.013\n",
       "x15            0.0172      0.001     12.166      0.000       0.014       0.020\n",
       "x16           -0.0117      0.001    -10.657      0.000      -0.014      -0.010\n",
       "x17            0.1739      0.001    145.942      0.000       0.172       0.176\n",
       "x18            0.0046      0.001      5.466      0.000       0.003       0.006\n",
       "x19            0.0118      0.001     12.485      0.000       0.010       0.014\n",
       "x20            0.0114      0.001     14.366      0.000       0.010       0.013\n",
       "x21           -0.0013      0.001     -1.504      0.133      -0.003       0.000\n",
       "x22            0.0497      0.001     54.763      0.000       0.048       0.051\n",
       "x23           -0.0102      0.001    -10.393      0.000      -0.012      -0.008\n",
       "x24            0.0107      0.001     14.342      0.000       0.009       0.012\n",
       "x25            0.0035      0.001      4.397      0.000       0.002       0.005\n",
       "x26           -0.0049      0.001     -5.704      0.000      -0.007      -0.003\n",
       "x27           -0.0180      0.001    -19.011      0.000      -0.020      -0.016\n",
       "x28            0.0075      0.001      9.291      0.000       0.006       0.009\n",
       "x29            0.0261      0.001     21.789      0.000       0.024       0.028\n",
       "x30            0.0091      0.001      6.622      0.000       0.006       0.012\n",
       "x31           -0.0201      0.001    -17.603      0.000      -0.022      -0.018\n",
       "x32            0.1620      0.002    102.884      0.000       0.159       0.165\n",
       "x33            0.0242      0.002     11.679      0.000       0.020       0.028\n",
       "x34           -0.0439      0.001    -65.206      0.000      -0.045      -0.043\n",
       "x35            0.0470      0.002     22.738      0.000       0.043       0.051\n",
       "x36            0.0172      0.002      8.465      0.000       0.013       0.021\n",
       "x37            0.3212      0.092      3.475      0.001       0.140       0.502\n",
       "x38            0.3204      0.092      3.492      0.000       0.141       0.500\n",
       "x39            0.2398      0.090      2.652      0.008       0.063       0.417\n",
       "x40            0.6449      0.081      7.917      0.000       0.485       0.805\n",
       "x41           -0.6206      0.141     -4.412      0.000      -0.896      -0.345\n",
       "x42            1.5016      0.085     17.663      0.000       1.335       1.668\n",
       "x43            0.5014      0.081      6.228      0.000       0.344       0.659\n",
       "x44           -0.1031      0.081     -1.279      0.201      -0.261       0.055\n",
       "x45           -0.8166      0.153     -5.325      0.000      -1.117      -0.516\n",
       "x46           -0.2039      0.142     -1.437      0.151      -0.482       0.074\n",
       "x47            0.3928      0.203      1.934      0.053      -0.005       0.791\n",
       "x48            1.0701      0.148      7.213      0.000       0.779       1.361\n",
       "x49            0.1502      0.160      0.939      0.348      -0.163       0.464\n",
       "x50            0.5533      0.190      2.918      0.004       0.182       0.925\n",
       "x51           -0.6698      0.272     -2.463      0.014      -1.203      -0.137\n",
       "x52           -0.1706      0.194     -0.881      0.378      -0.550       0.209\n",
       "x53            0.0060      0.211      0.029      0.977      -0.408       0.420\n",
       "x54            0.6671      0.200      3.328      0.001       0.274       1.060\n",
       "x55            0.4808      0.326      1.474      0.141      -0.159       1.120\n",
       "x56            0.4821      0.244      1.973      0.048       0.003       0.961\n",
       "x57           -0.5020      0.076     -6.567      0.000      -0.652      -0.352\n",
       "x58           -0.6206      0.141     -4.412      0.000      -0.896      -0.345\n",
       "x59           -0.2039      0.142     -1.437      0.151      -0.482       0.074\n",
       "x60            0.0818      0.105      0.779      0.436      -0.124       0.288\n",
       "x61            0.3101      0.106      2.926      0.003       0.102       0.518\n",
       "x62           -0.1354      0.104     -1.304      0.192      -0.339       0.068\n",
       "x63           -0.3306      0.102     -3.253      0.001      -0.530      -0.131\n",
       "x64           -0.1031      0.081     -1.279      0.201      -0.261       0.055\n",
       "x65           -0.8166      0.153     -5.325      0.000      -1.117      -0.516\n",
       "==============================================================================\n",
       "Omnibus:                    10666.370   Durbin-Watson:                   2.010\n",
       "Prob(Omnibus):                  0.000   Jarque-Bera (JB):            26530.713\n",
       "Skew:                          -0.465   Prob(JB):                         0.00\n",
       "Kurtosis:                       4.936   Cond. No.                     1.15e+16\n",
       "==============================================================================\n",
       "\n",
       "Warnings:\n",
       "[1] Standard Errors assume that the covariance matrix of the errors is correctly specified.\n",
       "[2] The smallest eigenvalue is 6.32e-17. This might indicate that there are\n",
       "strong multicollinearity problems or that the design matrix is singular.\n",
       "\"\"\""
      ]
     },
     "execution_count": 111,
     "metadata": {},
     "output_type": "execute_result"
    }
   ],
   "source": [
    "model.summary()"
   ]
  },
  {
   "cell_type": "code",
   "execution_count": 119,
   "metadata": {},
   "outputs": [],
   "source": [
    "lm = LinearRegression()"
   ]
  },
  {
   "cell_type": "code",
   "execution_count": 121,
   "metadata": {},
   "outputs": [
    {
     "data": {
      "text/plain": [
       "array([[1.00000e+00, 2.22537e+05, 5.32766e+05, ..., 0.00000e+00,\n",
       "        0.00000e+00, 0.00000e+00],\n",
       "       [1.00000e+00, 2.10462e+05, 2.87645e+05, ..., 0.00000e+00,\n",
       "        0.00000e+00, 0.00000e+00],\n",
       "       [1.00000e+00, 1.74859e+05, 2.82713e+05, ..., 0.00000e+00,\n",
       "        0.00000e+00, 0.00000e+00],\n",
       "       ...,\n",
       "       [1.00000e+00, 5.38690e+04, 2.32820e+04, ..., 0.00000e+00,\n",
       "        0.00000e+00, 0.00000e+00],\n",
       "       [1.00000e+00, 1.89431e+05, 1.19760e+05, ..., 0.00000e+00,\n",
       "        0.00000e+00, 0.00000e+00],\n",
       "       [1.00000e+00, 1.77509e+05, 4.68750e+04, ..., 0.00000e+00,\n",
       "        0.00000e+00, 0.00000e+00]])"
      ]
     },
     "execution_count": 121,
     "metadata": {},
     "output_type": "execute_result"
    }
   ],
   "source": [
    "x_train"
   ]
  },
  {
   "cell_type": "code",
   "execution_count": 104,
   "metadata": {},
   "outputs": [
    {
     "ename": "AttributeError",
     "evalue": "'numpy.ndarray' object has no attribute 'values'",
     "output_type": "error",
     "traceback": [
      "\u001b[1;31m---------------------------------------------------------------------------\u001b[0m",
      "\u001b[1;31mAttributeError\u001b[0m                            Traceback (most recent call last)",
      "\u001b[1;32m<ipython-input-104-fadd823e2fc7>\u001b[0m in \u001b[0;36m<module>\u001b[1;34m()\u001b[0m\n\u001b[1;32m----> 1\u001b[1;33m \u001b[0mmodel\u001b[0m \u001b[1;33m=\u001b[0m \u001b[0mlm\u001b[0m\u001b[1;33m.\u001b[0m\u001b[0mfit\u001b[0m\u001b[1;33m(\u001b[0m\u001b[0mx_train\u001b[0m\u001b[1;33m.\u001b[0m\u001b[0mvalues\u001b[0m\u001b[1;33m,\u001b[0m \u001b[0my_train\u001b[0m\u001b[1;33m.\u001b[0m\u001b[0mvalues\u001b[0m\u001b[1;33m)\u001b[0m\u001b[1;33m\u001b[0m\u001b[0m\n\u001b[0m",
      "\u001b[1;31mAttributeError\u001b[0m: 'numpy.ndarray' object has no attribute 'values'"
     ]
    }
   ],
   "source": [
    "model = lm.fit(x_train.values, y_train.values)"
   ]
  },
  {
   "cell_type": "code",
   "execution_count": null,
   "metadata": {},
   "outputs": [],
   "source": []
  }
 ],
 "metadata": {
  "kernelspec": {
   "display_name": "Python 3",
   "language": "python",
   "name": "python3"
  },
  "language_info": {
   "codemirror_mode": {
    "name": "ipython",
    "version": 3
   },
   "file_extension": ".py",
   "mimetype": "text/x-python",
   "name": "python",
   "nbconvert_exporter": "python",
   "pygments_lexer": "ipython3",
   "version": "3.6.4"
  }
 },
 "nbformat": 4,
 "nbformat_minor": 2
}
